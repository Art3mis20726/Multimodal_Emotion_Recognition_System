{
 "cells": [
  {
   "cell_type": "code",
   "execution_count": 1,
   "metadata": {},
   "outputs": [
    {
     "name": "stderr",
     "output_type": "stream",
     "text": [
      "d:\\Machine_Learning\\NLP\\Multimodal_Emotion_Recognition_System\\venv\\Lib\\site-packages\\tqdm\\auto.py:21: TqdmWarning: IProgress not found. Please update jupyter and ipywidgets. See https://ipywidgets.readthedocs.io/en/stable/user_install.html\n",
      "  from .autonotebook import tqdm as notebook_tqdm\n"
     ]
    }
   ],
   "source": [
    "import tensorflow as tf\n",
    "import numpy as np\n",
    "import pandas as pd\n",
    "from transformers import TFAutoModel,AutoTokenizer\n",
    "from sklearn.model_selection import train_test_split\n",
    "from sklearn.preprocessing import LabelEncoder\n"
   ]
  },
  {
   "cell_type": "code",
   "execution_count": null,
   "metadata": {},
   "outputs": [],
   "source": [
    "# Load dataset\n",
    "df = pd.read_csv(\"merged_data.csv\")\n",
    "df = df[['text', 'label']]"
   ]
  },
  {
   "cell_type": "code",
   "execution_count": null,
   "metadata": {},
   "outputs": [],
   "source": [
    "df"
   ]
  },
  {
   "cell_type": "code",
   "execution_count": null,
   "metadata": {},
   "outputs": [],
   "source": [
    "emotions_len=len(df['label'].unique())\n",
    "emotions_len\n"
   ]
  },
  {
   "cell_type": "code",
   "execution_count": null,
   "metadata": {},
   "outputs": [],
   "source": [
    "import matplotlib.pyplot as plt\n",
    "import pandas as pd\n",
    "\n",
    "# Count values\n",
    "label_counts = df['label'].value_counts()\n",
    "percentages = (label_counts / label_counts.sum()) * 100  # Convert to percentage\n",
    "\n",
    "# Create a figure\n",
    "fig, ax = plt.subplots(figsize=(10, 6))\n",
    "\n",
    "# Pie chart\n",
    "ax.pie(label_counts, labels=label_counts.index, autopct='%1.1f%%', colors=['skyblue', 'lightcoral', 'lightgreen', 'gold'])\n",
    "ax.set_title(\"Distribution of Labels\")\n",
    "\n",
    "# Create a table\n",
    "table_data = {'Label': label_counts.index, 'Count': label_counts.values, 'Percentage': percentages.round(1)}\n",
    "table_df = pd.DataFrame(table_data)\n",
    "\n",
    "# Add table to plot\n",
    "table = plt.table(cellText=table_df.values, colLabels=table_df.columns, cellLoc='center', loc='right')\n",
    "table.auto_set_font_size(False)\n",
    "table.set_fontsize(10)\n",
    "table.scale(1, 1.5)\n",
    "\n",
    "# Show plot\n",
    "plt.show()\n"
   ]
  },
  {
   "cell_type": "code",
   "execution_count": null,
   "metadata": {},
   "outputs": [],
   "source": [
    "import re\n",
    "import string\n",
    "#Preprocess text\n",
    "def preprocess_text(text):\n",
    "    text=text.lower()\n",
    "    text=re.sub('[^a-z A-Z 0-9]','',text)\n",
    "    text= text.translate(str.maketrans(\"\", \"\", string.punctuation))  # Remove punctuation\n",
    "    text= re.sub(r'\\d+', '', text)  # Remove numbers\n",
    "    return text.strip()"
   ]
  },
  {
   "cell_type": "code",
   "execution_count": null,
   "metadata": {},
   "outputs": [],
   "source": [
    "df['text']=df['text'].apply(lambda x: preprocess_text(x))\n"
   ]
  },
  {
   "cell_type": "code",
   "execution_count": null,
   "metadata": {},
   "outputs": [],
   "source": [
    "df[\"text\"]"
   ]
  },
  {
   "cell_type": "code",
   "execution_count": null,
   "metadata": {},
   "outputs": [],
   "source": [
    "from sklearn.preprocessing import LabelEncoder\n",
    "\n",
    "# Initialize LabelEncoder\n",
    "label_encoder = LabelEncoder()\n",
    "\n",
    "# Fit and transform labels\n",
    "df[\"label\"] = label_encoder.fit_transform(df[\"label\"])\n",
    "\n",
    "# Get label mappings\n",
    "label_mapping = dict(zip(label_encoder.classes_, label_encoder.transform(label_encoder.classes_)))\n",
    "\n",
    "# Print the mapping\n",
    "print(\"Label Encoding Mapping:\")\n",
    "for label, index in label_mapping.items():\n",
    "    print(f\"{label}: {index}\")\n"
   ]
  },
  {
   "cell_type": "code",
   "execution_count": null,
   "metadata": {},
   "outputs": [],
   "source": [
    "df[\"label\"]"
   ]
  },
  {
   "cell_type": "code",
   "execution_count": null,
   "metadata": {},
   "outputs": [],
   "source": [
    "#load the RoBERTa tokenizer\n",
    "tokenizer=AutoTokenizer.from_pretrained('roberta-base')"
   ]
  },
  {
   "cell_type": "code",
   "execution_count": null,
   "metadata": {},
   "outputs": [],
   "source": [
    "def tokenize_text(texts, max_length=128):\n",
    "    return tokenizer(texts.tolist(), padding=\"max_length\", truncation=True, max_length=max_length)"
   ]
  },
  {
   "cell_type": "code",
   "execution_count": null,
   "metadata": {},
   "outputs": [],
   "source": [
    "tokens = tokenize_text(df[\"text\"])\n",
    "input_ids, attention_mask = tokens[\"input_ids\"], tokens[\"attention_mask\"]"
   ]
  },
  {
   "cell_type": "code",
   "execution_count": null,
   "metadata": {},
   "outputs": [],
   "source": [
    "len(input_ids[0])"
   ]
  },
  {
   "cell_type": "code",
   "execution_count": null,
   "metadata": {},
   "outputs": [],
   "source": [
    "# Train-test split\n",
    "X_train, X_test, attn_train, attn_test, y_train, y_test = train_test_split(\n",
    "    input_ids, attention_mask, df[\"label\"].values, test_size=0.2, random_state=42)"
   ]
  },
  {
   "cell_type": "code",
   "execution_count": null,
   "metadata": {},
   "outputs": [],
   "source": [
    "# Convert labels to categorical\n",
    "\n",
    "y_train = tf.keras.utils.to_categorical(y_train, emotions_len)\n",
    "y_test = tf.keras.utils.to_categorical(y_test, emotions_len)"
   ]
  },
  {
   "cell_type": "code",
   "execution_count": null,
   "metadata": {},
   "outputs": [],
   "source": [
    "y_train.shape"
   ]
  },
  {
   "cell_type": "code",
   "execution_count": null,
   "metadata": {},
   "outputs": [],
   "source": [
    "# Load RoBERTa model\n",
    "roberta_model = TFAutoModel.from_pretrained(\"roberta-base\")"
   ]
  },
  {
   "cell_type": "code",
   "execution_count": null,
   "metadata": {},
   "outputs": [],
   "source": [
    "import tensorflow as tf\n",
    "from tensorflow.keras.layers import Layer\n",
    "from transformers import TFRobertaModel, RobertaTokenizer\n",
    "import torch\n",
    "\n",
    "class RoBERTaEmbedding(tf.keras.layers.Layer):\n",
    "    def __init__(self, model):\n",
    "        super(RoBERTaEmbedding, self).__init__()\n",
    "        self.model = model\n",
    "\n",
    "    def call(self, inputs):\n",
    "        input_ids, attention_mask = inputs[\"input_ids\"], inputs[\"attention_mask\"]\n",
    "        output = self.model(input_ids=input_ids, attention_mask=attention_mask)\n",
    "        return output.last_hidden_state  # Extract output\n",
    "    # Explicitly define the output shape\n",
    "    def compute_output_shape(self, input_shape):\n",
    "        return (input_shape[\"input_ids\"][0], input_shape[\"input_ids\"][1], 768)  # (batch_size, seq_length, 768)\n",
    "\n"
   ]
  },
  {
   "cell_type": "code",
   "execution_count": null,
   "metadata": {},
   "outputs": [],
   "source": [
    "from tensorflow.keras.layers import Dense,Input,LSTM\n",
    "\n",
    "def build_model(emotions_len, max_length=128): \n",
    "    input_layer=Input(shape=(max_length,),dtype=tf.int32,name=\"input_ids\")\n",
    "    attention_mask_layer=Input(shape=(max_length,),dtype=tf.int32,name=\"attention_mask\")\n",
    "    roberta_layer = RoBERTaEmbedding(roberta_model)\n",
    "    roberta_output = roberta_layer({\"input_ids\": input_layer, \"attention_mask\": attention_mask_layer})\n",
    "    lstm_output=LSTM(128,return_sequences=False)(roberta_output)\n",
    "    dense_output = Dense(64, activation='relu')(lstm_output)\n",
    "    final_output = Dense(emotions_len, activation='softmax')(dense_output)\n",
    "    \n",
    "    \n",
    "    model = tf.keras.Model(inputs=[input_layer,attention_mask_layer], outputs=final_output)\n",
    "    model.compile(loss='categorical_crossentropy', optimizer=tf.keras.optimizers.Adam(learning_rate=2e-5), metrics=['accuracy'])\n",
    "    return model"
   ]
  },
  {
   "cell_type": "code",
   "execution_count": null,
   "metadata": {},
   "outputs": [],
   "source": [
    "model=build_model(emotions_len, 128)\n"
   ]
  },
  {
   "cell_type": "code",
   "execution_count": null,
   "metadata": {},
   "outputs": [],
   "source": [
    "model.summary()"
   ]
  },
  {
   "cell_type": "code",
   "execution_count": null,
   "metadata": {},
   "outputs": [],
   "source": [
    "# # Train model\n",
    "# model.fit(\n",
    "#     [X_train, attn_train], y_train,\n",
    "#     validation_data=([X_test, attn_test], y_test),\n",
    "#     epochs=3,\n",
    "#     verbose=1\n",
    "# )\n",
    "2"
   ]
  },
  {
   "cell_type": "code",
   "execution_count": null,
   "metadata": {},
   "outputs": [],
   "source": [
    "print(\"hello\")"
   ]
  },
  {
   "cell_type": "code",
   "execution_count": null,
   "metadata": {},
   "outputs": [],
   "source": []
  },
  {
   "cell_type": "code",
   "execution_count": null,
   "metadata": {},
   "outputs": [],
   "source": []
  }
 ],
 "metadata": {
  "kernelspec": {
   "display_name": "Python 3",
   "language": "python",
   "name": "python3"
  },
  "language_info": {
   "codemirror_mode": {
    "name": "ipython",
    "version": 3
   },
   "file_extension": ".py",
   "mimetype": "text/x-python",
   "name": "python",
   "nbconvert_exporter": "python",
   "pygments_lexer": "ipython3",
   "version": "3.12.6"
  }
 },
 "nbformat": 4,
 "nbformat_minor": 2
}
