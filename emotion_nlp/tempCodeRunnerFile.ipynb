history = classifier.fit(
    train_dataset,
    epochs=3
)